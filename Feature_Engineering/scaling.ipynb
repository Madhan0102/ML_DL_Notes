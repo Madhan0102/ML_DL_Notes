{
 "cells": [
  {
   "cell_type": "markdown",
   "metadata": {},
   "source": [
    "# Scaling "
   ]
  },
  {
   "cell_type": "markdown",
   "metadata": {},
   "source": [
    "scaling refers to the process of normalizing or standardizing the features of a dataset. The purpose of scaling is to bring all features to the same scale or range so that no single feature dominates the others. This is particularly important for algorithms that use distance metrics or gradients, such as k-nearest neighbors, support vector machines, and neural networks."
   ]
  },
  {
   "cell_type": "markdown",
   "metadata": {},
   "source": [
    "## Min-Max Scaling (Normalization):"
   ]
  },
  {
   "cell_type": "markdown",
   "metadata": {},
   "source": [
    "This method scales the data to a fixed range, usually between 0 and 1. It is achieved by subtracting the minimum value of the feature and then dividing by the range (maximum value minus minimum value)"
   ]
  },
  {
   "attachments": {
    "image.png": {
     "image/png": "[encoded data removed]"
    }
   },
   "cell_type": "markdown",
   "metadata": {},
   "source": [
    "![image.png](attachment:image.png)"
   ]
  },
  {
   "cell_type": "code",
   "execution_count": 1,
   "metadata": {},
   "outputs": [
    {
     "name": "stdout",
     "output_type": "stream",
     "text": [
      "Original data:\n",
      "[[1 2]\n",
      " [3 4]\n",
      " [5 6]]\n",
      "\n",
      "Scaled data:\n",
      "[[0.  0. ]\n",
      " [0.5 0.5]\n",
      " [1.  1. ]]\n"
     ]
    }
   ],
   "source": [
    "from sklearn.preprocessing import MinMaxScaler\n",
    "import numpy as np\n",
    "\n",
    "# Sample data\n",
    "data = np.array([[1, 2], [3, 4], [5, 6]])\n",
    "\n",
    "# Create MinMaxScaler object\n",
    "scaler = MinMaxScaler()\n",
    "\n",
    "# Fit the scaler to the data and transform the data\n",
    "scaled_data = scaler.fit_transform(data)\n",
    "\n",
    "print(\"Original data:\")\n",
    "print(data)\n",
    "print(\"\\nScaled data:\")\n",
    "print(scaled_data)\n"
   ]
  },
  {
   "cell_type": "markdown",
   "metadata": {},
   "source": [
    "### limitations:\n",
    "\n",
    "**Sensitivity to outliers**: Min-Max scaling can be greatly influenced by outliers in the data, especially when the range of the data is very large. Outliers can result in the majority of the data being squeezed into a very small range, leading to loss of information.\n",
    "\n",
    "**May not handle varying distributions well**: Min-Max scaling assumes that the distribution of the data is relatively uniform across features. If the distributions are highly skewed or have different ranges, Min-Max scaling may not be effective."
   ]
  },
  {
   "cell_type": "markdown",
   "metadata": {},
   "source": [
    "## Standardization: "
   ]
  },
  {
   "cell_type": "markdown",
   "metadata": {},
   "source": [
    "This method rescales the data to have a mean of 0 and a standard deviation of 1. It is achieved by subtracting the mean of the feature and then dividing by the standard deviation. "
   ]
  },
  {
   "attachments": {
    "image.png": {
     "image/png": "[encoded data removed]"
    }
   },
   "cell_type": "markdown",
   "metadata": {},
   "source": [
    "![image.png](attachment:image.png)"
   ]
  },
  {
   "cell_type": "code",
   "execution_count": 2,
   "metadata": {},
   "outputs": [
    {
     "name": "stdout",
     "output_type": "stream",
     "text": [
      "Original data:\n",
      "[[1 2]\n",
      " [3 4]\n",
      " [5 6]]\n",
      "\n",
      "Standardized data:\n",
      "[[-1.22474487 -1.22474487]\n",
      " [ 0.          0.        ]\n",
      " [ 1.22474487  1.22474487]]\n"
     ]
    }
   ],
   "source": [
    "from sklearn.preprocessing import StandardScaler\n",
    "import numpy as np\n",
    "\n",
    "# Sample data\n",
    "data = np.array([[1, 2], [3, 4], [5, 6]])\n",
    "\n",
    "# Create StandardScaler object\n",
    "scaler = StandardScaler()\n",
    "\n",
    "# Fit the scaler to the data and transform the data\n",
    "standardized_data = scaler.fit_transform(data)\n",
    "\n",
    "print(\"Original data:\")\n",
    "print(data)\n",
    "print(\"\\nStandardized data:\")\n",
    "print(standardized_data)\n"
   ]
  },
  {
   "cell_type": "markdown",
   "metadata": {},
   "source": [
    "### limitations\n",
    "\n",
    "**Does not bound the data**: Unlike Min-Max scaling, standardization does not bound the data to a specific range. This means that the transformed data may have negative values, which might not be appropriate for certain algorithms or interpretations.\n",
    "\n",
    "**Might not handle extreme outliers well**: While standardization is less sensitive to outliers compared to Min-Max scaling, extreme outliers can still impact the mean and standard deviation, potentially skewing the standardized data.\n",
    "\n",
    "**May not be suitable for algorithms sensitive to feature scales**: Some algorithms, such as decision trees and random forests, are not sensitive to feature scales and may not benefit from standardization. In some cases, standardization might even degrade the performance of these algorithms.    "
   ]
  },
  {
   "cell_type": "markdown",
   "metadata": {},
   "source": [
    "## when to use which one?"
   ]
  },
  {
   "cell_type": "markdown",
   "metadata": {},
   "source": [
    "\n",
    "Choosing between Min-Max scaling (Normalization) and Standardization depends on the specific characteristics of your data and the requirements of your machine learning algorithm. Here are some guidelines to help you decide:"
   ]
  },
  {
   "cell_type": "markdown",
   "metadata": {},
   "source": []
  },
  {
   "cell_type": "markdown",
   "metadata": {},
   "source": [
    "Min-Max Scaling (Normalization):\n",
    "\n",
    "1. Use when your data has a known, limited range.\n",
    "2. Useful when your algorithm (like neural networks, KNN) requires input data to be on a scale of 0 to 1.\n",
    "3. It preserves the shape of the original distribution and does not change the relative distance between data points."
   ]
  },
  {
   "cell_type": "code",
   "execution_count": null,
   "metadata": {},
   "outputs": [],
   "source": []
  },
  {
   "cell_type": "markdown",
   "metadata": {},
   "source": [
    "Standardization:\n",
    "\n",
    "1. Use when your data has outliers or does not follow a Gaussian distribution.\n",
    "2. Suitable for algorithms that assume your data is normally distributed, such as linear regression, logistic regression, and SVM.\n",
    "3. Standardization centers the data around 0 and scales it to have a standard deviation of 1, making it less sensitive to the scale of features."
   ]
  },
  {
   "cell_type": "markdown",
   "metadata": {},
   "source": [
    "In summary, if your data has a clear minimum and maximum value, and you need your data to be within a specific range, use Min-Max scaling. If your data is not bounded and might have outliers, or if you're unsure about the distribution of your data, standardization might be a better choice as it's more robust in such cases. In practice, it's often a good idea to try both scaling methods and see which one yields better performance for your specific problem and algorithm."
   ]
  },
  {
   "cell_type": "code",
   "execution_count": null,
   "metadata": {},
   "outputs": [],
   "source": []
  }
 ],
 "metadata": {
  "kernelspec": {
   "display_name": "Python 3",
   "language": "python",
   "name": "python3"
  },
  "language_info": {
   "codemirror_mode": {
    "name": "ipython",
    "version": 3
   },
   "file_extension": ".py",
   "mimetype": "text/x-python",
   "name": "python",
   "nbconvert_exporter": "python",
   "pygments_lexer": "ipython3",
   "version": "3.11.3"
  }
 },
 "nbformat": 4,
 "nbformat_minor": 2
}
