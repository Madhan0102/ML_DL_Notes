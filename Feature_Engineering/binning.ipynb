{
 "cells": [
  {
   "cell_type": "markdown",
   "metadata": {},
   "source": [
    "# Binning"
   ]
  },
  {
   "cell_type": "markdown",
   "metadata": {},
   "source": [
    "Binning, in the context of data analysis or statistics, refers to the process of grouping data points into specific intervals or categories, often to simplify the analysis or visualization of the data. This technique is commonly used when dealing with continuous data, where there's a wide range of values.\n",
    "\n",
    "Binning involves dividing the range of values into smaller, discrete intervals or bins. Each bin represents a specific range of values, and data points falling within that range are grouped together. This can help in summarizing the data, identifying patterns, or reducing the complexity of the dataset.\n",
    "\n",
    "Binning can be done in various ways, such as equal-width binning (where bins have the same width) or equal-frequency binning (where each bin contains the same number of data points). Additionally, bins can be defined manually based on domain knowledge or automatically using algorithms.\n",
    "\n",
    "After binning, analysts often compute summary statistics or visualize the data using histograms, bar charts, or other graphical representations to gain insights into the distribution and characteristics of the data."
   ]
  },
  {
   "cell_type": "markdown",
   "metadata": {},
   "source": [
    "## Equal-width Binning\n"
   ]
  },
  {
   "cell_type": "markdown",
   "metadata": {},
   "source": [
    "\n",
    "**Description**: In equal-width binning, the range of values is divided into equal-sized intervals. Each interval represents a bin, and data points falling within each interval are grouped together.\n",
    "\n",
    "**Limitations**: This method might not be suitable for datasets with unevenly distributed values, as it can result in empty bins or bins with very few data points."
   ]
  },
  {
   "cell_type": "code",
   "execution_count": 12,
   "metadata": {},
   "outputs": [
    {
     "name": "stdout",
     "output_type": "stream",
     "text": [
      "Data: 98, Bin: 5\n",
      "Data: 62, Bin: 4\n",
      "Data: 67, Bin: 4\n",
      "Data: 98, Bin: 5\n",
      "Data: 76, Bin: 4\n",
      "Data: 43, Bin: 3\n",
      "Data: 90, Bin: 5\n",
      "Data: 10, Bin: 1\n",
      "Data: 95, Bin: 5\n",
      "Data: 37, Bin: 2\n",
      "Data: 77, Bin: 4\n",
      "Data: 50, Bin: 3\n",
      "Data: 26, Bin: 2\n",
      "Data: 39, Bin: 2\n",
      "Data: 98, Bin: 5\n",
      "Data: 14, Bin: 1\n",
      "Data: 39, Bin: 2\n",
      "Data: 58, Bin: 3\n",
      "Data: 72, Bin: 4\n",
      "Data: 32, Bin: 2\n",
      "Data: 28, Bin: 2\n",
      "Data: 85, Bin: 5\n",
      "Data: 18, Bin: 1\n",
      "Data: 32, Bin: 2\n",
      "Data: 43, Bin: 3\n",
      "Data: 92, Bin: 5\n",
      "Data: 78, Bin: 4\n",
      "Data:  2, Bin: 1\n",
      "Data: 67, Bin: 4\n",
      "Data: 27, Bin: 2\n",
      "Data: 34, Bin: 2\n",
      "Data: 66, Bin: 4\n",
      "Data: 70, Bin: 4\n",
      "Data: 19, Bin: 1\n",
      "Data: 91, Bin: 5\n",
      "Data: 91, Bin: 5\n",
      "Data: 71, Bin: 4\n",
      "Data: 89, Bin: 5\n",
      "Data:  1, Bin: 1\n",
      "Data: 58, Bin: 3\n",
      "Data: 47, Bin: 3\n",
      "Data:  9, Bin: 1\n",
      "Data: 68, Bin: 4\n",
      "Data: 34, Bin: 2\n",
      "Data: 19, Bin: 1\n",
      "Data: 38, Bin: 2\n",
      "Data:  5, Bin: 1\n",
      "Data: 20, Bin: 2\n",
      "Data: 48, Bin: 3\n",
      "Data: 92, Bin: 5\n",
      "Data: 62, Bin: 4\n",
      "Data: 85, Bin: 5\n",
      "Data: 42, Bin: 3\n",
      "Data:  8, Bin: 1\n",
      "Data: 26, Bin: 2\n",
      "Data:  0, Bin: 1\n",
      "Data:  8, Bin: 1\n",
      "Data: 54, Bin: 3\n",
      "Data: 18, Bin: 1\n",
      "Data: 69, Bin: 4\n",
      "Data: 94, Bin: 5\n",
      "Data:  1, Bin: 1\n",
      "Data: 36, Bin: 2\n",
      "Data: 77, Bin: 4\n",
      "Data: 91, Bin: 5\n",
      "Data: 22, Bin: 2\n",
      "Data: 74, Bin: 4\n",
      "Data:  2, Bin: 1\n",
      "Data: 19, Bin: 1\n",
      "Data: 69, Bin: 4\n",
      "Data: 88, Bin: 5\n",
      "Data: 52, Bin: 3\n",
      "Data: 45, Bin: 3\n",
      "Data: 43, Bin: 3\n",
      "Data: 97, Bin: 5\n",
      "Data: 43, Bin: 3\n",
      "Data: 35, Bin: 2\n",
      "Data:  5, Bin: 1\n",
      "Data: 70, Bin: 4\n",
      "Data: 55, Bin: 3\n",
      "Data:  9, Bin: 1\n",
      "Data: 62, Bin: 4\n",
      "Data: 47, Bin: 3\n",
      "Data:  7, Bin: 1\n",
      "Data: 52, Bin: 3\n",
      "Data: 14, Bin: 1\n",
      "Data: 77, Bin: 4\n",
      "Data: 37, Bin: 2\n",
      "Data: 70, Bin: 4\n",
      "Data: 62, Bin: 4\n",
      "Data: 99, Bin: 6\n",
      "Data: 80, Bin: 5\n",
      "Data: 24, Bin: 2\n",
      "Data: 19, Bin: 1\n",
      "Data: 94, Bin: 5\n",
      "Data: 42, Bin: 3\n",
      "Data: 36, Bin: 2\n",
      "Data: 56, Bin: 3\n",
      "Data: 79, Bin: 4\n",
      "Data: 88, Bin: 5\n"
     ]
    }
   ],
   "source": [
    "import numpy as np\n",
    "\n",
    "# Sample data\n",
    "data = np.random.randint(0, 100, 100)\n",
    "\n",
    "# Define the number of bins\n",
    "num_bins = 5\n",
    "\n",
    "# Perform equal-width binning\n",
    "bin_edges = np.linspace(min(data), max(data), num_bins + 1)\n",
    "\n",
    "# Assign data points to bins\n",
    "binned_data = np.digitize(data, bins=bin_edges)\n",
    "\n",
    "# Display the original data and the corresponding bins\n",
    "for i in range(len(data)):\n",
    "    print(\"Data: {:2d}, Bin: {}\".format(data[i], binned_data[i]))\n"
   ]
  },
  {
   "cell_type": "markdown",
   "metadata": {},
   "source": [
    "We generate some random sample data using NumPy's random.randint function.\n",
    "\n",
    "We specify the number of bins we want (num_bins).\n",
    "\n",
    "We use NumPy's linspace function to divide the range of the data into num_bins equal-width intervals, which gives us the bin edges.\n",
    "\n",
    "We use NumPy's digitize function to assign each data point to the appropriate bin based on the calculated bin edges."
   ]
  },
  {
   "cell_type": "markdown",
   "metadata": {},
   "source": [
    "## Equal-frequency Binning (Quantile Binning)"
   ]
  },
  {
   "cell_type": "markdown",
   "metadata": {},
   "source": [
    "**Description**: Equal-frequency binning divides the data into bins such that each bin contains approximately the same number of data points. It is also known as quantile binning.\n",
    "\n",
    "**Limitations**: This method may not be suitable for datasets with outliers, as it can result in bins containing a wide range of values."
   ]
  },
  {
   "cell_type": "code",
   "execution_count": 5,
   "metadata": {},
   "outputs": [
    {
     "name": "stdout",
     "output_type": "stream",
     "text": [
      "Binned data:\n",
      "Bin 1: [ 1  1  3  4  6  6  7  7  8  9 13 16 16 17 17 17 19 19 22 22]\n",
      "Bin 2: [25 28 29 30 31 32 33 35 35 37 37 38 38 38 39 39 41 42 43 44]\n",
      "Bin 3: [45 45 46 46 47 47 47 50 50 51 51 53 53 53 54 55 55 56 61 61]\n",
      "Bin 4: [61 62 63 65 68 70 70 72 73 73 73 74 74 75 76 77 77 78 79 79]\n",
      "Bin 5: [79 79 79 81 83 83 84 85 86 86 87 88 90 91 91 93 95 98 98 98]\n"
     ]
    }
   ],
   "source": [
    "import numpy as np\n",
    "\n",
    "# Generate random data\n",
    "data = np.random.randint(1, 100, 100)\n",
    "\n",
    "# Define number of bins\n",
    "num_bins = 5\n",
    "\n",
    "# Bin the data using equal-frequency binning\n",
    "binned_data = np.array_split(np.sort(data), num_bins)\n",
    "\n",
    "print(\"Binned data:\")\n",
    "for i, bin_ in enumerate(binned_data):\n",
    "    print(f\"Bin {i+1}: {bin_}\")\n"
   ]
  },
  {
   "cell_type": "markdown",
   "metadata": {},
   "source": [
    "# Custom Binning"
   ]
  },
  {
   "cell_type": "markdown",
   "metadata": {},
   "source": [
    "**Description**: Custom binning involves manually defining the bin edges based on domain knowledge or specific requirements. This allows for more flexibility in creating bins tailored to the characteristics of the data.\n",
    "\n",
    "\n",
    "**Limitations**: Manual binning requires prior knowledge of the data distribution and might be subjective. It can also be time-consuming for large datasets."
   ]
  },
  {
   "cell_type": "code",
   "execution_count": 8,
   "metadata": {},
   "outputs": [
    {
     "name": "stdout",
     "output_type": "stream",
     "text": [
      "Data: 49.90, Bin: 3\n",
      "Data: 38.94, Bin: 2\n",
      "Data: 46.33, Bin: 3\n",
      "Data: 14.95, Bin: 1\n",
      "Data: 7.68, Bin: 1\n",
      "Data: 7.18, Bin: 1\n",
      "Data: 92.17, Bin: 5\n",
      "Data: 7.63, Bin: 1\n",
      "Data: 7.98, Bin: 1\n",
      "Data: 54.18, Bin: 3\n",
      "Data: 0.79, Bin: 1\n",
      "Data: 40.65, Bin: 3\n",
      "Data: 0.25, Bin: 1\n",
      "Data: 61.35, Bin: 4\n",
      "Data: 27.24, Bin: 2\n",
      "Data: 23.28, Bin: 2\n",
      "Data: 13.95, Bin: 1\n",
      "Data: 39.04, Bin: 2\n",
      "Data: 78.69, Bin: 4\n",
      "Data: 60.32, Bin: 4\n",
      "Data: 1.77, Bin: 1\n",
      "Data: 17.60, Bin: 1\n",
      "Data: 40.62, Bin: 3\n",
      "Data: 13.19, Bin: 1\n",
      "Data: 12.10, Bin: 1\n",
      "Data: 34.55, Bin: 2\n",
      "Data: 4.39, Bin: 1\n",
      "Data: 57.93, Bin: 3\n",
      "Data: 77.52, Bin: 4\n",
      "Data: 40.94, Bin: 3\n",
      "Data: 45.39, Bin: 3\n",
      "Data: 51.85, Bin: 3\n",
      "Data: 16.88, Bin: 1\n",
      "Data: 12.66, Bin: 1\n",
      "Data: 80.93, Bin: 5\n",
      "Data: 77.32, Bin: 4\n",
      "Data: 70.80, Bin: 4\n",
      "Data: 50.93, Bin: 3\n",
      "Data: 98.71, Bin: 5\n",
      "Data: 36.85, Bin: 2\n",
      "Data: 2.40, Bin: 1\n",
      "Data: 60.43, Bin: 4\n",
      "Data: 22.85, Bin: 2\n",
      "Data: 45.99, Bin: 3\n",
      "Data: 97.91, Bin: 5\n",
      "Data: 35.53, Bin: 2\n",
      "Data: 71.70, Bin: 4\n",
      "Data: 8.54, Bin: 1\n",
      "Data: 34.04, Bin: 2\n",
      "Data: 79.73, Bin: 4\n",
      "Data: 37.38, Bin: 2\n",
      "Data: 39.63, Bin: 2\n",
      "Data: 20.23, Bin: 2\n",
      "Data: 15.73, Bin: 1\n",
      "Data: 77.69, Bin: 4\n",
      "Data: 84.75, Bin: 5\n",
      "Data: 62.33, Bin: 4\n",
      "Data: 39.95, Bin: 2\n",
      "Data: 81.28, Bin: 5\n",
      "Data: 58.01, Bin: 3\n",
      "Data: 3.53, Bin: 1\n",
      "Data: 30.26, Bin: 2\n",
      "Data: 49.47, Bin: 3\n",
      "Data: 55.91, Bin: 3\n",
      "Data: 98.43, Bin: 5\n",
      "Data: 92.72, Bin: 5\n",
      "Data: 39.71, Bin: 2\n",
      "Data: 32.37, Bin: 2\n",
      "Data: 0.49, Bin: 1\n",
      "Data: 4.25, Bin: 1\n",
      "Data: 44.72, Bin: 3\n",
      "Data: 19.58, Bin: 1\n",
      "Data: 87.90, Bin: 5\n",
      "Data: 41.13, Bin: 3\n",
      "Data: 48.26, Bin: 3\n",
      "Data: 26.97, Bin: 2\n",
      "Data: 51.19, Bin: 3\n",
      "Data: 56.31, Bin: 3\n",
      "Data: 89.19, Bin: 5\n",
      "Data: 1.92, Bin: 1\n",
      "Data: 37.38, Bin: 2\n",
      "Data: 33.16, Bin: 2\n",
      "Data: 20.57, Bin: 2\n",
      "Data: 15.13, Bin: 1\n",
      "Data: 65.00, Bin: 4\n",
      "Data: 62.26, Bin: 4\n",
      "Data: 89.70, Bin: 5\n",
      "Data: 14.21, Bin: 1\n",
      "Data: 67.20, Bin: 4\n",
      "Data: 52.40, Bin: 3\n",
      "Data: 8.05, Bin: 1\n",
      "Data: 79.60, Bin: 4\n",
      "Data: 21.52, Bin: 2\n",
      "Data: 59.32, Bin: 3\n",
      "Data: 73.49, Bin: 4\n",
      "Data: 1.97, Bin: 1\n",
      "Data: 8.75, Bin: 1\n",
      "Data: 65.89, Bin: 4\n",
      "Data: 7.08, Bin: 1\n",
      "Data: 79.61, Bin: 4\n"
     ]
    }
   ],
   "source": [
    "import numpy as np\n",
    "\n",
    "# Sample data\n",
    "data = np.random.uniform(0, 100, 100)\n",
    "\n",
    "# Define custom bin boundaries\n",
    "custom_bins = [0, 20, 40, 60, 80, 100]\n",
    "\n",
    "# Perform custom binning\n",
    "binned_data = np.digitize(data, bins=custom_bins)\n",
    "\n",
    "# Display the original data and the corresponding bins\n",
    "for i in range(len(data)):\n",
    "    print(\"Data: {:.2f}, Bin: {}\".format(data[i], binned_data[i]))\n"
   ]
  },
  {
   "cell_type": "markdown",
   "metadata": {},
   "source": [
    "In this example, we first generate some random sample data using NumPy's random.uniform function. Then, we define our custom bin boundaries in the custom_bins list. These boundaries divide the data into five bins: 0-20, 21-40, 41-60, 61-80, and 81-100.\n",
    "\n",
    "Next, we use NumPy's digitize function to perform custom binning. This function assigns each data point to the appropriate bin based on the provided bin boundaries."
   ]
  },
  {
   "cell_type": "code",
   "execution_count": null,
   "metadata": {},
   "outputs": [],
   "source": []
  }
 ],
 "metadata": {
  "kernelspec": {
   "display_name": "Python 3",
   "language": "python",
   "name": "python3"
  },
  "language_info": {
   "codemirror_mode": {
    "name": "ipython",
    "version": 3
   },
   "file_extension": ".py",
   "mimetype": "text/x-python",
   "name": "python",
   "nbconvert_exporter": "python",
   "pygments_lexer": "ipython3",
   "version": "3.11.3"
  }
 },
 "nbformat": 4,
 "nbformat_minor": 2
}
