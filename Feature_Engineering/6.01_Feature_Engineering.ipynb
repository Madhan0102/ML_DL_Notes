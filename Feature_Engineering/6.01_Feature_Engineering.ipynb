{
 "cells": [
  {
   "cell_type": "markdown",
   "metadata": {
    "id": "IeDy1PAj0OQE"
   },
   "source": [
    "# <b>Feature Engineering</b>"
   ]
  },
  {
   "cell_type": "markdown",
   "metadata": {
    "id": "C08dpo7v0OQG"
   },
   "source": [
    "## **Agenda**"
   ]
  },
  {
   "cell_type": "markdown",
   "metadata": {
    "id": "hO1BXs5v0OQH"
   },
   "source": [
    "In this session, we will cover the following concepts with the help of a business use case:\n",
    "* Features\n",
    "* Feature engineering and it's methods\n",
    "   * Applying domain expertise\n",
    "   * Combining features\n",
    "   * Encoding of categorical variables"
   ]
  },
  {
   "cell_type": "markdown",
   "metadata": {
    "id": "W6IwJTbCGe0a"
   },
   "source": [
    "## **Features**\n",
    "\n",
    "* In most cases, machine learning algorithms are fed a collection of numeric examples that are stacked on top of each other to form a two-dimensional feature matrix.\n",
    "\n",
    "* This matrix has one **example** per row and one **function** per column.\n",
    "\n",
    "* Understanding the task of these features is critical when doing some kind of learning on the dataset.\n",
    "\n",
    "* Since the algorithms create their own internal transformations, deep learning features are normally simple.\n",
    "\n",
    "* This method necessitates a vast volume of data and sacrifices interpretability; but, in image processing and natural language processing applications, these trade offs are often worthwhile.\n",
    "\n",
    "* Feature engineering is needed for the majority of other use cases in order to translate data into a machine learning-ready format.\n",
    "\n",
    "* The features chosen are critical for both the data's interpretability and the model's performance.\n",
    "\n",
    "* A precise machine learning framework cannot be built without feature engineering."
   ]
  },
  {
   "cell_type": "markdown",
   "metadata": {
    "id": "00t7JMHH0OQI"
   },
   "source": [
    "## <b> What Is Feature Engineering?</b>\n",
    "\n",
    "* Feature Engineering repurposes already modified features to build new ones, making it possible for any Machine Learning algorithm to comprehend and master any pattern.\n",
    "\n",
    "* It is the process of **creating new features** from raw data using domain knowledge to make the machine learning algorithms work.\n",
    "\n",
    "* It is one of the fundamental concepts of machine learning and it is both difficult and expensive. \n",
    "\n",
    "* Every new resource must enhance the performance in some way; otherwise, it would have the opposite effect, worsening the final outcome. When this happens, we must use feature selection instead of feature engineering.\n",
    "\n",
    "* Acording to Andrew Ng, \"Coming up with features is difficult, time-consuming, requires expert knowledge.\"\n",
    "\n",
    "* According to Pedro Domingos, feature engineering is the art of coming up with new features with more predictive power using:\n",
    "\n",
    "   - Experience\n",
    "   - Domain expertise\n",
    "   - Empirical processes\n",
    "\n",
    "* The following are some of the most important components of feature engineering:\n",
    "  1. Imputation\n",
    "  2. Handling Outliers\n",
    "  3. Binning\n",
    "  4. Encoding\n",
    "  5. Grouping Operations\n",
    "  6. Scaling"
   ]
  },
  {
   "cell_type": "markdown",
   "metadata": {
    "id": "rypevJCI0OQI"
   },
   "source": [
    "### Most Important Techniques in Feature Engineering\n",
    "\n",
    "- Applying domain expertise\n",
    "- Combining features\n",
    "- Encoding of categorical variables"
   ]
  },
  {
   "cell_type": "markdown",
   "metadata": {
    "id": "dpkF5BYj0OQJ"
   },
   "source": [
    "### <b> Applying Domain Expertise </b>\n",
    "\n",
    "Domain expertise or domain knowledge is nothing but expertise in a particular field, such as Education, Healthcare, Consumer Goods, and Retail. \n",
    "A domain expert is someone who is not related to the technology aspect but has in-depth knowledge about the particular industry, how it is shaping up, the trends, and the things that might impact the industry.\n",
    "\n",
    "For example, you are called in to develop a particular application for a consumer goods company, specifically an apparel and footwear one.\n",
    "The application that you build has to align to the industry and its various facets, and you being a technology expert wouldn't know much about it. This is where a domain expert will come in and explain how that industry works and what would be the best way to have the application built."
   ]
  }
 ],
 "metadata": {
  "colab": {
   "collapsed_sections": [],
   "name": "6.01_Feature_Engineering.ipynb",
   "provenance": []
  },
  "kernelspec": {
   "display_name": "Python 3 (ipykernel)",
   "language": "python",
   "name": "python3"
  },
  "language_info": {
   "codemirror_mode": {
    "name": "ipython",
    "version": 3
   },
   "file_extension": ".py",
   "mimetype": "text/x-python",
   "name": "python",
   "nbconvert_exporter": "python",
   "pygments_lexer": "ipython3",
   "version": "3.11.3"
  }
 },
 "nbformat": 4,
 "nbformat_minor": 1
}
